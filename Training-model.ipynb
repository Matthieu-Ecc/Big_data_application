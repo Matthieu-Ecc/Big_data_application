{
 "cells": [
  {
   "cell_type": "code",
   "metadata": {
    "tags": [],
    "cell_id": "00001-8fda4037-f6b4-46fa-b093-200f001abf06",
    "deepnote_to_be_reexecuted": false,
    "source_hash": "b5d04846",
    "execution_start": 1637054498003,
    "execution_millis": 1914,
    "deepnote_cell_type": "code"
   },
   "source": "import pandas as pd\n\nX_train = pd.read_csv(\"X_train_ready\")\nX_test  = pd.read_csv(\"X_test_ready\")\ny_train = pd.read_csv(\"y_train_ready\")\ny_test  = pd.read_csv(\"y_test_ready\")",
   "execution_count": null,
   "outputs": []
  },
  {
   "cell_type": "code",
   "metadata": {
    "tags": [],
    "cell_id": "00001-04c63749-c1f1-4cbe-9803-bfcb84306eee",
    "deepnote_to_be_reexecuted": false,
    "source_hash": "4857e49f",
    "execution_start": 1637054499917,
    "execution_millis": 1,
    "deepnote_cell_type": "code"
   },
   "source": "X_train = X_train.drop(columns='Unnamed: 0')\nX_test = X_test.drop(columns='Unnamed: 0')\ny_train = y_train.drop(columns='Unnamed: 0')\ny_test  = y_test.drop(columns='Unnamed: 0')",
   "execution_count": null,
   "outputs": []
  },
  {
   "cell_type": "code",
   "metadata": {
    "tags": [],
    "cell_id": "00000-ba2c5380-1ce8-4ac9-999e-8cb3c104ef5d",
    "deepnote_to_be_reexecuted": false,
    "source_hash": "93f8316f",
    "execution_start": 1637054499918,
    "execution_millis": 31629,
    "deepnote_cell_type": "code"
   },
   "source": "# Fitting Random Forest Regression to the dataset\n# import the regressor\nfrom sklearn.ensemble import RandomForestClassifier\n  \n # create regressor object\nclassifier = RandomForestClassifier(max_depth=10)\n  \n# fit the regressor with x and y data\nclassifier.fit(X_train, y_train) ",
   "execution_count": null,
   "outputs": [
    {
     "name": "stderr",
     "text": "/shared-libs/python3.7/py-core/lib/python3.7/site-packages/ipykernel_launcher.py:9: DataConversionWarning: A column-vector y was passed when a 1d array was expected. Please change the shape of y to (n_samples,), for example using ravel().\n  if __name__ == '__main__':\n",
     "output_type": "stream"
    },
    {
     "output_type": "execute_result",
     "execution_count": 3,
     "data": {
      "text/plain": "RandomForestClassifier(max_depth=10)"
     },
     "metadata": {}
    }
   ]
  },
  {
   "cell_type": "code",
   "metadata": {
    "tags": [],
    "cell_id": "00003-4f21918d-4515-44bc-b664-48de8924dbe2",
    "deepnote_to_be_reexecuted": false,
    "source_hash": "55d0f966",
    "execution_start": 1637054531546,
    "execution_millis": 231,
    "deepnote_cell_type": "code"
   },
   "source": "y_pred_2 = classifier.predict(X_test)",
   "execution_count": null,
   "outputs": []
  },
  {
   "cell_type": "code",
   "metadata": {
    "tags": [],
    "cell_id": "00003-bb26a527-86b9-409b-878f-e3e4d684bee5",
    "deepnote_to_be_reexecuted": false,
    "source_hash": "7c1d188a",
    "execution_start": 1637054531786,
    "execution_millis": 63109,
    "deepnote_cell_type": "code"
   },
   "source": "import xgboost as xgb\nmodel=xgb.XGBClassifier(random_state=3,learning_rate=0.01)\nmodel.fit(X_train, y_train)",
   "execution_count": null,
   "outputs": [
    {
     "name": "stderr",
     "text": "/root/venv/lib/python3.7/site-packages/xgboost/sklearn.py:1224: UserWarning: The use of label encoder in XGBClassifier is deprecated and will be removed in a future release. To remove this warning, do the following: 1) Pass option use_label_encoder=False when constructing XGBClassifier object; and 2) Encode your labels (y) as integers starting with 0, i.e. 0, 1, 2, ..., [num_class - 1].\n  warnings.warn(label_encoder_deprecation_msg, UserWarning)\n/shared-libs/python3.7/py/lib/python3.7/site-packages/sklearn/preprocessing/_label.py:98: DataConversionWarning: A column-vector y was passed when a 1d array was expected. Please change the shape of y to (n_samples, ), for example using ravel().\n  y = column_or_1d(y, warn=True)\n/shared-libs/python3.7/py/lib/python3.7/site-packages/sklearn/preprocessing/_label.py:133: DataConversionWarning: A column-vector y was passed when a 1d array was expected. Please change the shape of y to (n_samples, ), for example using ravel().\n  y = column_or_1d(y, warn=True)\n[09:22:14] WARNING: ../src/learner.cc:1115: Starting in XGBoost 1.3.0, the default evaluation metric used with the objective 'binary:logistic' was changed from 'error' to 'logloss'. Explicitly set eval_metric if you'd like to restore the old behavior.\n",
     "output_type": "stream"
    },
    {
     "output_type": "execute_result",
     "execution_count": 5,
     "data": {
      "text/plain": "XGBClassifier(base_score=0.5, booster='gbtree', colsample_bylevel=1,\n              colsample_bynode=1, colsample_bytree=1, enable_categorical=False,\n              gamma=0, gpu_id=-1, importance_type=None,\n              interaction_constraints='', learning_rate=0.01, max_delta_step=0,\n              max_depth=6, min_child_weight=1, missing=nan,\n              monotone_constraints='()', n_estimators=100, n_jobs=2,\n              num_parallel_tree=1, predictor='auto', random_state=3,\n              reg_alpha=0, reg_lambda=1, scale_pos_weight=1, subsample=1,\n              tree_method='exact', validate_parameters=1, verbosity=None)"
     },
     "metadata": {}
    }
   ]
  },
  {
   "cell_type": "code",
   "metadata": {
    "tags": [],
    "cell_id": "00004-f5c10e28-721f-4e93-a209-769b29808fbe",
    "deepnote_to_be_reexecuted": false,
    "source_hash": "b8a8a8e6",
    "execution_start": 1637054594893,
    "execution_millis": 24,
    "deepnote_cell_type": "code"
   },
   "source": "model.score(X_test, y_test)",
   "execution_count": null,
   "outputs": [
    {
     "output_type": "execute_result",
     "execution_count": 6,
     "data": {
      "text/plain": "0.915643257422201"
     },
     "metadata": {}
    }
   ]
  },
  {
   "cell_type": "code",
   "metadata": {
    "tags": [],
    "cell_id": "00005-bb27e81f-d5c9-4f83-9a99-9fb208b309ad",
    "deepnote_to_be_reexecuted": false,
    "source_hash": "e955a84b",
    "execution_start": 1637054594957,
    "execution_millis": 1514,
    "deepnote_cell_type": "code"
   },
   "source": "from sklearn.metrics import confusion_matrix\nfrom sklearn.metrics import precision_score, recall_score, f1_score, accuracy_score\nfrom matplotlib import pyplot as plt\n\ny_pred = model.predict(X_test)\n#\n# Calculate the confusion matrix\n#\nconf_matrix = confusion_matrix(y_true=y_test, y_pred=y_pred)\n#\n# Print the confusion matrix using Matplotlib\n#\nfig, ax = plt.subplots(figsize=(5, 5))\nax.matshow(conf_matrix, cmap=plt.cm.Oranges, alpha=0.3)\nfor i in range(conf_matrix.shape[0]):\n    for j in range(conf_matrix.shape[1]):\n        ax.text(x=j, y=i,s=conf_matrix[i, j], va='center', ha='center', size='xx-large')\n \nplt.xlabel('Predictions', fontsize=18)\nplt.ylabel('Actuals', fontsize=18)\nplt.title('Confusion Matrix', fontsize=18)\nplt.show()",
   "execution_count": null,
   "outputs": [
    {
     "data": {
      "text/plain": "<Figure size 360x360 with 1 Axes>",
      "image/png": "[encoded data removed]"
     },
     "metadata": {
      "needs_background": "light",
      "image/png": {
       "width": 321,
       "height": 345
      }
     },
     "output_type": "display_data"
    }
   ]
  },
  {
   "cell_type": "code",
   "metadata": {
    "tags": [],
    "cell_id": "00007-b307e339-55db-49d0-9bab-2b7870834caf",
    "deepnote_to_be_reexecuted": false,
    "source_hash": "be116317",
    "execution_start": 1637054596477,
    "execution_millis": 294,
    "deepnote_cell_type": "code"
   },
   "source": "conf_matrix = confusion_matrix(y_true=y_test, y_pred=y_pred_2)\n#\n# Print the confusion matrix using Matplotlib\n#\nfig, ax = plt.subplots(figsize=(5, 5))\nax.matshow(conf_matrix, cmap=plt.cm.Oranges, alpha=0.3)\nfor i in range(conf_matrix.shape[0]):\n    for j in range(conf_matrix.shape[1]):\n        ax.text(x=j, y=i,s=conf_matrix[i, j], va='center', ha='center', size='xx-large')\n \nplt.xlabel('Predictions', fontsize=18)\nplt.ylabel('Actuals', fontsize=18)\nplt.title('Confusion Matrix', fontsize=18)\nplt.show()",
   "execution_count": null,
   "outputs": [
    {
     "data": {
      "text/plain": "<Figure size 360x360 with 1 Axes>",
      "image/png": "[encoded data removed]"
     },
     "metadata": {
      "needs_background": "light",
      "image/png": {
       "width": 321,
       "height": 345
      }
     },
     "output_type": "display_data"
    }
   ]
  },
  {
   "cell_type": "code",
   "metadata": {
    "tags": [],
    "cell_id": "00008-57fa5954-a693-42ab-8a63-d53817fd72b7",
    "deepnote_to_be_reexecuted": false,
    "source_hash": "4c3148e8",
    "execution_start": 1637054596817,
    "execution_millis": 1,
    "deepnote_cell_type": "code"
   },
   "source": "from joblib import dump\ndump(model, 'Model_XGboost')\n",
   "execution_count": null,
   "outputs": [
    {
     "output_type": "execute_result",
     "execution_count": 9,
     "data": {
      "text/plain": "['Model_XGboost']"
     },
     "metadata": {}
    }
   ]
  },
  {
   "cell_type": "markdown",
   "source": "<a style='text-decoration:none;line-height:16px;display:flex;color:#5B5B62;padding:10px;justify-content:end;' href='https://deepnote.com?utm_source=created-in-deepnote-cell&projectId=a3d361b4-d400-42b1-9ca4-0bd2e2d55e02' target=\"_blank\">\n<img alt='Created in deepnote.com' style='display:inline;max-height:16px;margin:0px;margin-right:7.5px;' src='data:image/svg+xml;base64,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' > </img>\nCreated in <span style='font-weight:600;margin-left:4px;'>Deepnote</span></a>",
   "metadata": {
    "tags": [],
    "created_in_deepnote_cell": true,
    "deepnote_cell_type": "markdown"
   }
  }
 ],
 "nbformat": 4,
 "nbformat_minor": 2,
 "metadata": {
  "orig_nbformat": 2,
  "deepnote": {
   "is_reactive": false
  },
  "deepnote_notebook_id": "22ebee14-7ffc-42fd-8c21-1127b7ab1952",
  "deepnote_execution_queue": []
 }
}