{
 "cells": [
  {
   "cell_type": "code",
   "metadata": {
    "tags": [],
    "cell_id": "00000-d7894319-078e-4a43-8045-6275e643787c",
    "deepnote_to_be_reexecuted": false,
    "source_hash": "ea2aa796",
    "execution_start": 1637057244160,
    "execution_millis": 3752,
    "deepnote_cell_type": "code"
   },
   "source": "import pandas as pd\n\nX_train = pd.read_csv(\"X_train\",index_col=False)\nX_test  = pd.read_csv(\"X_test\",index_col=False)\ny_train = pd.read_csv(\"y_train\",index_col=False)\ny_test  = pd.read_csv(\"y_test\",index_col=False)\n\nX_test_prod = pd.read_csv(\"X_test_prod\",index_col=False)",
   "outputs": [],
   "execution_count": null
  },
  {
   "cell_type": "code",
   "metadata": {
    "tags": [],
    "cell_id": "00002-663ce37f-552a-4fb7-9ed6-b7933a9b7a26",
    "deepnote_to_be_reexecuted": false,
    "source_hash": "cb5053c4",
    "execution_start": 1637057247955,
    "execution_millis": 178,
    "deepnote_cell_type": "code"
   },
   "source": "X_train = X_train.drop(columns=['Unnamed: 0','SK_ID_CURR'])\nX_test  = X_test.drop(columns=['Unnamed: 0','SK_ID_CURR'])\n\nX_test_prod = X_test_prod.drop(columns=['Unnamed: 0','SK_ID_CURR'])\n\ny_train = y_train.drop(columns='Unnamed: 0')\ny_test  = y_test.drop(columns='Unnamed: 0')",
   "outputs": [],
   "execution_count": null
  },
  {
   "cell_type": "code",
   "metadata": {
    "tags": [],
    "cell_id": "00003-16e605b4-a8b2-45f7-84ae-2edf735670f1",
    "deepnote_to_be_reexecuted": false,
    "source_hash": "dd7d4dd6",
    "execution_start": 1637057248182,
    "execution_millis": 1585,
    "deepnote_cell_type": "code"
   },
   "source": "from sklearn import preprocessing\nle = preprocessing.LabelEncoder()\n\ndef EncodeDataFramelabel(df : pd.Dataframe) -> pd.DataFrame:\n    count=0\n    for type in df.dtypes:\n        if type != \"int64\" and type != \"float64\" :\n            #print(type, count)\n            df.iloc[:, count]= le.fit_transform(df.iloc[:, count])\n        count = count+1\n    return df  ",
   "outputs": [],
   "execution_count": null
  },
  {
   "cell_type": "code",
   "metadata": {
    "tags": [],
    "cell_id": "00004-a6b64903-6129-4632-9ffe-2af86be3151b",
    "deepnote_to_be_reexecuted": false,
    "source_hash": "72f50e0a",
    "execution_start": 1637057249822,
    "execution_millis": 2278,
    "deepnote_cell_type": "code"
   },
   "source": "X_train = EncodeDataFramelabel(X_train)\nX_test = EncodeDataFramelabel(X_test)\n\nX_test_prod = EncodeDataFramelabel(X_test_prod)",
   "outputs": [],
   "execution_count": null
  },
  {
   "cell_type": "code",
   "metadata": {
    "tags": [],
    "cell_id": "00005-94021d78-762e-4fbd-af87-297a75ddc8b1",
    "deepnote_to_be_reexecuted": false,
    "source_hash": "40e91f76",
    "execution_start": 1637057252130,
    "execution_millis": 511,
    "deepnote_cell_type": "code"
   },
   "source": "x = X_train.values #returns a numpy array\nmin_max_scaler = preprocessing.MinMaxScaler()\nx_scaled = min_max_scaler.fit_transform(x)\nX_train = pd.DataFrame(x_scaled)\n\nx_ = X_test.values\nx__scaled = min_max_scaler.fit_transform(x_)\nX_test = pd.DataFrame(x__scaled)",
   "outputs": [],
   "execution_count": null
  },
  {
   "cell_type": "code",
   "source": "X_test_prod = pd.DataFrame(min_max_scaler.fit_transform(X_test_prod.values))",
   "metadata": {
    "tags": [],
    "cell_id": "00005-dc757610-0ffb-45b5-a91b-d01a73ed2d78",
    "deepnote_to_be_reexecuted": false,
    "source_hash": "bee51e95",
    "execution_start": 1637057252663,
    "execution_millis": 199,
    "deepnote_cell_type": "code"
   },
   "outputs": [],
   "execution_count": null
  },
  {
   "cell_type": "code",
   "metadata": {
    "tags": [],
    "cell_id": "00006-3bdef178-f2e3-4d17-899b-b667f9bb45a9",
    "deepnote_to_be_reexecuted": false,
    "source_hash": "e31280fa",
    "execution_start": 1637057252891,
    "execution_millis": 39537,
    "deepnote_cell_type": "code"
   },
   "source": "X_train.to_csv(path_or_buf=\"X_train_ready\")\nX_test.to_csv(path_or_buf=\"X_test_ready\")\n\nX_test_prod.to_csv(path_or_buf=\"X_test_prod_ready\")\n\ny_train.to_csv(path_or_buf=\"y_train_ready\")\ny_test.to_csv(path_or_buf=\"y_test_ready\")",
   "outputs": [],
   "execution_count": null
  },
  {
   "cell_type": "markdown",
   "source": "<a style='text-decoration:none;line-height:16px;display:flex;color:#5B5B62;padding:10px;justify-content:end;' href='https://deepnote.com?utm_source=created-in-deepnote-cell&projectId=a3d361b4-d400-42b1-9ca4-0bd2e2d55e02' target=\"_blank\">\n<img alt='Created in deepnote.com' style='display:inline;max-height:16px;margin:0px;margin-right:7.5px;' src='data:image/svg+xml;base64,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' > </img>\nCreated in <span style='font-weight:600;margin-left:4px;'>Deepnote</span></a>",
   "metadata": {
    "tags": [],
    "created_in_deepnote_cell": true,
    "deepnote_cell_type": "markdown"
   }
  }
 ],
 "nbformat": 4,
 "nbformat_minor": 2,
 "metadata": {
  "orig_nbformat": 2,
  "deepnote": {
   "is_reactive": false
  },
  "deepnote_notebook_id": "16b788f5-8d12-42aa-9cb5-2a6d117e3576",
  "deepnote_execution_queue": []
 }
}